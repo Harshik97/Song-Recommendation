{
  "nbformat": 4,
  "nbformat_minor": 0,
  "metadata": {
    "colab": {
      "name": "Spotify.ipynb",
      "provenance": [],
      "collapsed_sections": [],
      "authorship_tag": "ABX9TyOfX3/EP2p1GS90ldJuAYl8",
      "include_colab_link": true
    },
    "kernelspec": {
      "name": "python3",
      "display_name": "Python 3"
    }
  },
  "cells": [
    {
      "cell_type": "markdown",
      "metadata": {
        "id": "view-in-github",
        "colab_type": "text"
      },
      "source": [
        "<a href=\"https://colab.research.google.com/github/Harshik97/Song-Recommendation/blob/master/Spotify.ipynb\" target=\"_parent\"><img src=\"https://colab.research.google.com/assets/colab-badge.svg\" alt=\"Open In Colab\"/></a>"
      ]
    },
    {
      "cell_type": "code",
      "metadata": {
        "id": "a-3VBA9neT6w",
        "colab_type": "code",
        "colab": {}
      },
      "source": [
        "\n",
        "import numpy as np\n",
        "import pandas as pd\n",
        "from sklearn.tree import DecisionTreeClassifier\n",
        "from sklearn.model_selection import train_test_split\n",
        "from sklearn import metrics\n",
        "from sklearn.metrics import precision_score, recall_score, f1_score, confusion_matrix, accuracy_score\n",
        "from sklearn.tree import export_graphviz\n",
        "import graphviz\n",
        "import pydotplus\n",
        "import io\n",
        "import imageio\n",
        "import matplotlib.pyplot as plt\n",
        "from sklearn.model_selection import GridSearchCV\n",
        "from google.colab import files\n"
      ],
      "execution_count": 10,
      "outputs": []
    },
    {
      "cell_type": "code",
      "metadata": {
        "id": "K5nIOS6oTzgM",
        "colab_type": "code",
        "colab": {}
      },
      "source": [
        "def load_data():\n",
        "    \"\"\" \n",
        "        Returns:\n",
        "            Training data dataframe, training labels, testing data dataframe,\n",
        "            testing labels, features list\n",
        "    \"\"\"\n",
        "    features=['danceability','loudness','valence','energy','instrumentalness','acousticness','key','speechiness','duration_ms','liveness','mode','tempo','valence']\n",
        "    uploaded = files.upload()\n",
        "    data = pd.read_csv(io.BytesIO(uploaded['spotify_data.csv'])) \n",
        "    train, test = train_test_split(data, test_size = 0.2)\n",
        "    train_x = train[features]\n",
        "    train_y = train['target']\n",
        "    test_x = test[features]\n",
        "    test_y = test['target']\n",
        "    return (train_x, test_x, train_y, test_y), features"
      ],
      "execution_count": 11,
      "outputs": []
    },
    {
      "cell_type": "code",
      "metadata": {
        "id": "bWpTM8UsTzu_",
        "colab_type": "code",
        "colab": {}
      },
      "source": [
        "def cv_grid_search(training_table, training_labels, nfolds = 5):\n",
        "    \"\"\" Run grid search with cross-validation to try different\n",
        "    hyperparameters\n",
        "      Returns:\n",
        "            Dictionary of best hyperparameters found by a grid search with\n",
        "            cross-validation\n",
        "    \"\"\"\n",
        "\n",
        "    param_grid = {'criterion': ['gini','entropy'], 'max_depth': np.arange(3, 15), 'class_weight': [None, 'balanced']}\n",
        "    dt = DecisionTreeClassifier()\n",
        "    dt_gscv = GridSearchCV(dt, param_grid, cv=nfolds)\n",
        "    dt_gscv.fit(training_table, training_labels)\n",
        "    #print(dt_gscv.best_params_)\n",
        "    return dt_gscv.best_params_\n"
      ],
      "execution_count": 12,
      "outputs": []
    },
    {
      "cell_type": "code",
      "metadata": {
        "id": "2pAF2PdwTz-S",
        "colab_type": "code",
        "colab": {}
      },
      "source": [
        "def plot_confusion_matrix(test_labels, pred_labels):\n",
        "    \"\"\"Plot confusion matrix\n",
        "       \n",
        "        Returns:\n",
        "            Writes image file of confusion matrix\n",
        "    \"\"\"\n",
        "   \n",
        "    cm = confusion_matrix(test_labels, pred_labels)\n",
        " \n",
        "    fig = plt.figure()\n",
        "    ax = fig.add_subplot(111)\n",
        "    cax = ax.matshow(cm)\n",
        "    for (i, j), z in np.ndenumerate(cm):\n",
        "        ax.text(j, i, z, ha='center', va='center')\n",
        "    plt.title('Confusion matrix of the classifier')\n",
        "    fig.colorbar(cax)\n",
        "    plt.xlabel('Predicted')\n",
        "    plt.ylabel('True')\n",
        "    plt.show()\n"
      ],
      "execution_count": 13,
      "outputs": []
    },
    {
      "cell_type": "code",
      "metadata": {
        "id": "5GDSsg-zT0vw",
        "colab_type": "code",
        "colab": {}
      },
      "source": [
        "def graph_tree(model, training_features, class_names):\n",
        "    \"\"\" Plot the tree of the trained model\n",
        "        \n",
        "        Returns:\n",
        "            Writes PDF file showing decision tree representation\n",
        "    \"\"\"\n",
        "   \n",
        "    out = export_graphviz(model, out_file = None, feature_names = training_features, class_names=class_names, filled = True)\n",
        "    p = graphviz.Source(out)\n",
        "    p.format = 'jpeg'\n",
        "    p.render('dtree_out.jpeg')\n",
        "    "
      ],
      "execution_count": 14,
      "outputs": []
    },
    {
      "cell_type": "code",
      "metadata": {
        "id": "2jae73fIT050",
        "colab_type": "code",
        "colab": {}
      },
      "source": [
        "def print_results(predictions, test_y):\n",
        "    \"\"\"Print results\n",
        "       \n",
        "        Returns:\n",
        "            Prints precision, recall, F1-score, and accuracy\n",
        "    \"\"\"\n",
        "    \n",
        "    print('F1 Score:', f1_score(test_y, predictions, average=\"macro\"))\n",
        "    print('Precision Score:', precision_score(test_y, predictions, average=\"macro\"))\n",
        "    print('Recall Score:', recall_score(test_y, predictions, average=\"macro\")) \n",
        "    print('Accuarcy Score:', accuracy_score(test_y, predictions))\n",
        "\n",
        "def print_feature_importance(model, features):\n",
        "    \"\"\"Print feature importance\n",
        "        \n",
        "        Returns:\n",
        "            Prints ordered list of features, starting with most important,\n",
        "            along with their relative importance (percentage).\n",
        "    \"\"\"\n",
        "    \n",
        "    feat_importance = model.tree_.compute_feature_importances(normalize=False)\n",
        "    mapped = set(zip(features, feat_importance))\n",
        "    print(\"Feature Importance = \", mapped)"
      ],
      "execution_count": 15,
      "outputs": []
    },
    {
      "cell_type": "code",
      "metadata": {
        "id": "4vTrYKfyT1DE",
        "colab_type": "code",
        "colab": {}
      },
      "source": [
        "def main():\n",
        "    \"\"\"Run the program\"\"\"\n",
        "    # Load data\n",
        "    (train_x, test_x, train_y, test_y), features = load_data()\n",
        "\n",
        "    # Cross Validation Training\n",
        "    #'criterion', 'max_depth', 'class weight', 'splitter', 'max_features'\n",
        "    params = cv_grid_search(train_x, train_y, 5)\n",
        "    # params = ['entropy', 4, 'balanced']\n",
        "\n",
        "    # Train and test model using hyperparameters\n",
        " \n",
        "    classifier = DecisionTreeClassifier(\n",
        "        criterion=params['criterion'],\n",
        "        max_depth=params['max_depth'],\n",
        "        class_weight=params['class_weight'],\n",
        "        )\n",
        "    classifier = DecisionTreeClassifier()\n",
        "    decision_tree = classifier.fit(train_x, train_y)\n",
        "    predictions = classifier.predict(test_x)\n",
        "    \n",
        "    # Confusion Matrix\n",
        "    plot_confusion_matrix(test_y, list(predictions))\n",
        "\n",
        "    # Graph Tree\n",
        "    graph_tree(classifier, features, ['hate', 'love'])\n",
        "\n",
        "    # Accuracy, Precision, Recall, F1\n",
        "    print_results(predictions, test_y)\n",
        "\n",
        "    # Feature Importance\n",
        "    print_feature_importance(classifier, features)\n",
        "\n",
        "\n",
        "if __name__ == '__main__':\n",
        "    main()"
      ],
      "execution_count": 16,
      "outputs": []
    },
    {
      "cell_type": "code",
      "metadata": {
        "id": "cCcc2pIcT1Ne",
        "colab_type": "code",
        "colab": {}
      },
      "source": [
        ""
      ],
      "execution_count": null,
      "outputs": []
    }
  ]
}